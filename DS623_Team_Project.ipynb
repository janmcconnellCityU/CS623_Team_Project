{
 "cells": [
  {
   "cell_type": "code",
   "execution_count": 2,
   "id": "9d537758",
   "metadata": {},
   "outputs": [
    {
     "name": "stdout",
     "output_type": "stream",
     "text": [
      "cat: (100, 16384)\n",
      "dog: (100, 16384)\n",
      "bird: (100, 16384)\n",
      "\n",
      "Sample cat images:\n",
      "Displaying cat image: 1.jpg\n",
      "Displaying cat image: 10.jpg\n",
      "Displaying cat image: 100.jpg\n",
      "\n",
      "Sample dog images:\n",
      "Displaying dog image: 1.jpg\n",
      "Displaying dog image: 10.jpg\n",
      "Displaying dog image: 100.jpg\n",
      "\n",
      "Sample bird images:\n",
      "Displaying bird image: 1.jpg\n",
      "Displaying bird image: 10.jpg\n",
      "Displaying bird image: 100.jpg\n"
     ]
    }
   ],
   "source": [
    "# DS623 Team Project - Image Processing and PCA (using NumPy and Pandas only)\n",
    "\n",
    "# Import allowed libraries\n",
    "# The os module is part of Python's standard library, not an external or high-level framework and is\n",
    "# used for navigating folders and handling file paths\n",
    "import os\n",
    "import numpy as np\n",
    "# Image is used as a basic preprocessing step for file I/O and not processing or analysis\n",
    "from PIL import Image\n",
    "\n",
    "# Dataset path and categories (match your folder names exactly)\n",
    "dataset_path = './catdogbird_dataset'\n",
    "categories = ['cat', 'dog', 'bird']\n",
    "\n",
    "# Function to load and preprocess images (grayscale, resize, flatten)\n",
    "def load_images(folder, size=(128, 128)):\n",
    "    images = []\n",
    "    for filename in os.listdir(folder):\n",
    "        if filename.lower().endswith(('.jpg', '.jpeg', '.png')):\n",
    "            path = os.path.join(folder, filename)\n",
    "            img = Image.open(path).convert('L')  # Convert to grayscale\n",
    "            img = img.resize(size)\n",
    "            images.append(np.array(img).flatten())\n",
    "    return np.array(images)\n",
    "\n",
    "# Load the dataset into a dictionary\n",
    "data = {}\n",
    "for category in categories:\n",
    "    folder_path = os.path.join(dataset_path, category)\n",
    "    data[category] = load_images(folder_path)\n",
    "\n",
    "# Check shape of loaded data\n",
    "for category in categories:\n",
    "    print(f\"{category}: {data[category].shape}\")\n",
    "\n",
    "# Display sample images using PIL (open a few directly)\n",
    "def show_samples(category, num_samples=3, size=(128, 128)):\n",
    "    folder_path = os.path.join(dataset_path, category)\n",
    "    files = [f for f in os.listdir(folder_path) if f.lower().endswith(('.jpg', '.jpeg', '.png'))]\n",
    "    for i in range(min(num_samples, len(files))):\n",
    "        path = os.path.join(folder_path, files[i])\n",
    "        img = Image.open(path).convert('L').resize(size)\n",
    "        print(f\"Displaying {category} image: {files[i]}\")\n",
    "        img.show()\n",
    "\n",
    "# Show 3 sample images from each category\n",
    "for category in categories:\n",
    "    print(f\"\\nSample {category} images:\")\n",
    "    show_samples(category)"
   ]
  },
  {
   "cell_type": "code",
   "execution_count": 3,
   "id": "6734a188",
   "metadata": {},
   "outputs": [
    {
     "name": "stdout",
     "output_type": "stream",
     "text": [
      "Saved cat images to cat_images_128x128.npy\n",
      "Saved dog images to dog_images_128x128.npy\n",
      "Saved bird images to bird_images_128x128.npy\n"
     ]
    }
   ],
   "source": [
    "# Save preprocessed image arrays as .npy files for future use\n",
    "# This step avoids reprocessing every time the notebook is run\n",
    "\n",
    "for category in categories:\n",
    "    filename = f\"{category}_images_128x128.npy\"\n",
    "    np.save(filename, data[category])\n",
    "    print(f\"Saved {category} images to {filename}\")"
   ]
  },
  {
   "cell_type": "code",
   "execution_count": 4,
   "id": "9fd66dad",
   "metadata": {},
   "outputs": [
    {
     "name": "stdout",
     "output_type": "stream",
     "text": [
      "Saved cat data to ./flattened_arrays\\cat_flattened.npy\n",
      "Saved dog data to ./flattened_arrays\\dog_flattened.npy\n",
      "Saved bird data to ./flattened_arrays\\bird_flattened.npy\n"
     ]
    }
   ],
   "source": [
    "# Save the flattened grayscale images as .npy files for later analysis\n",
    "save_path = './flattened_arrays'\n",
    "os.makedirs(save_path, exist_ok=True)\n",
    "\n",
    "for category in categories:\n",
    "    file_path = os.path.join(save_path, f\"{category}_flattened.npy\")\n",
    "    np.save(file_path, data[category])\n",
    "    print(f\"Saved {category} data to {file_path}\")"
   ]
  },
  {
   "cell_type": "code",
   "execution_count": 5,
   "id": "71784407",
   "metadata": {},
   "outputs": [
    {
     "name": "stdout",
     "output_type": "stream",
     "text": [
      "CAT shape: (100, 16384)\n",
      "CAT mean pixel value: 126.29\n",
      "CAT pixel variance: 4056.29\n",
      "\n",
      "DOG shape: (100, 16384)\n",
      "DOG mean pixel value: 130.27\n",
      "DOG pixel variance: 3917.13\n",
      "\n",
      "BIRD shape: (100, 16384)\n",
      "BIRD mean pixel value: 119.83\n",
      "BIRD pixel variance: 3709.12\n",
      "\n"
     ]
    }
   ],
   "source": [
    "# Load each .npy file, confirm shape, compute the mean and variance across the dataset\n",
    "loaded_data = {}\n",
    "\n",
    "for category in categories:\n",
    "    file_path = os.path.join(save_path, f\"{category}_flattened.npy\")\n",
    "    images = np.load(file_path)\n",
    "    loaded_data[category] = images\n",
    "\n",
    "    # Print stats\n",
    "    print(f\"{category.upper()} shape: {images.shape}\")\n",
    "    print(f\"{category.upper()} mean pixel value: {np.mean(images):.2f}\")\n",
    "    print(f\"{category.upper()} pixel variance: {np.var(images):.2f}\")\n",
    "    print()"
   ]
  },
  {
   "cell_type": "code",
   "execution_count": 6,
   "id": "6fd160ba",
   "metadata": {},
   "outputs": [
    {
     "name": "stdout",
     "output_type": "stream",
     "text": [
      "Saved mean image for cat to ./mean_images\\cat_mean.npy\n",
      "Saved mean image for dog to ./mean_images\\dog_mean.npy\n",
      "Saved mean image for bird to ./mean_images\\bird_mean.npy\n"
     ]
    }
   ],
   "source": [
    "# Compute and save mean image for each category\n",
    "mean_path = './mean_images'\n",
    "os.makedirs(mean_path, exist_ok=True)\n",
    "\n",
    "mean_images = {}\n",
    "\n",
    "for category in categories:\n",
    "    images = loaded_data[category]\n",
    "    mean_img = np.mean(images, axis=0)\n",
    "    mean_images[category] = mean_img\n",
    "\n",
    "    # Save to disk for later use in centering and PCA\n",
    "    mean_file = os.path.join(mean_path, f\"{category}_mean.npy\")\n",
    "    np.save(mean_file, mean_img)\n",
    "\n",
    "    print(f\"Saved mean image for {category} to {mean_file}\")"
   ]
  },
  {
   "cell_type": "code",
   "execution_count": 7,
   "id": "95ea59f2",
   "metadata": {},
   "outputs": [
    {
     "name": "stdout",
     "output_type": "stream",
     "text": [
      "CAT centered shape: (100, 16384)\n",
      "DOG centered shape: (100, 16384)\n",
      "BIRD centered shape: (100, 16384)\n"
     ]
    }
   ],
   "source": [
    "# Load and center data by subtracting the mean image in preparation for PCA\n",
    "centered_data = {}\n",
    "\n",
    "for category in categories:\n",
    "    images = loaded_data[category]\n",
    "\n",
    "    # Load mean image from file\n",
    "    mean_file = os.path.join(mean_path, f\"{category}_mean.npy\")\n",
    "    mean_img = np.load(mean_file)\n",
    "\n",
    "    # Subtract the mean from each image\n",
    "    centered = images - mean_img\n",
    "    centered_data[category] = centered\n",
    "\n",
    "    print(f\"{category.upper()} centered shape: {centered.shape}\")"
   ]
  },
  {
   "cell_type": "code",
   "execution_count": 8,
   "id": "09e905bd",
   "metadata": {},
   "outputs": [
    {
     "name": "stdout",
     "output_type": "stream",
     "text": [
      "CAT covariance matrix shape: (16384, 16384)\n",
      "DOG covariance matrix shape: (16384, 16384)\n",
      "BIRD covariance matrix shape: (16384, 16384)\n"
     ]
    }
   ],
   "source": [
    "# Compute covariance matrix for each centered category\n",
    "# Each covariance matrix will be of shape (num_pixels, num_pixels)\n",
    "# Since each image is 128x128, that means 128*128 = 16,384 pixels per image\n",
    "\n",
    "cov_matrices = {}\n",
    "\n",
    "for category in categories:\n",
    "    # Get the centered data matrix (100 x 16,384)\n",
    "    X = centered_data[category]\n",
    "\n",
    "    # Compute covariance matrix (pixels are treated as features/columns)\n",
    "    cov_matrix = np.cov(X, rowvar=False)\n",
    "\n",
    "    # Store for later eigen decomposition\n",
    "    cov_matrices[category] = cov_matrix\n",
    "\n",
    "    # Print confirmation\n",
    "    print(f\"{category.upper()} covariance matrix shape: {cov_matrix.shape}\")"
   ]
  },
  {
   "cell_type": "code",
   "execution_count": 9,
   "id": "94f82ccb",
   "metadata": {},
   "outputs": [
    {
     "name": "stdout",
     "output_type": "stream",
     "text": [
      "CAT top eigenvalue: 15826699.37, total components: 16384\n",
      "DOG top eigenvalue: 10852990.81, total components: 16384\n",
      "BIRD top eigenvalue: 27777403.95, total components: 16384\n"
     ]
    }
   ],
   "source": [
    "# Perform eigen decomposition (PCA) on each category's covariance matrix\n",
    "# This provides eigenvalues (variance magnitude) and eigenvectors (principal directions)\n",
    "\n",
    "eigen_pairs = {}\n",
    "\n",
    "for category in categories:\n",
    "    cov_matrix = cov_matrices[category]\n",
    "\n",
    "    # Compute eigenvalues and eigenvectors\n",
    "    eigenvalues, eigenvectors = np.linalg.eigh(cov_matrix)\n",
    "\n",
    "    # Sort in descending order of eigenvalue magnitude\n",
    "    sorted_indices = np.argsort(eigenvalues)[::-1]\n",
    "    eigenvalues = eigenvalues[sorted_indices]\n",
    "    eigenvectors = eigenvectors[:, sorted_indices]\n",
    "\n",
    "    # Store for later use (e.g., projection, reconstruction)\n",
    "    eigen_pairs[category] = (eigenvalues, eigenvectors)\n",
    "\n",
    "    # Print confirmation and leading eigenvalue\n",
    "    print(f\"{category.upper()} top eigenvalue: {eigenvalues[0]:.2f}, total components: {len(eigenvalues)}\")"
   ]
  },
  {
   "cell_type": "code",
   "execution_count": 10,
   "id": "114072ba",
   "metadata": {},
   "outputs": [
    {
     "name": "stdout",
     "output_type": "stream",
     "text": [
      "Saved PCA data for CAT to ./eigen_data\\cat_eigenvalues.npy and ./eigen_data\\cat_eigenvectors.npy\n",
      "Saved PCA data for DOG to ./eigen_data\\dog_eigenvalues.npy and ./eigen_data\\dog_eigenvectors.npy\n",
      "Saved PCA data for BIRD to ./eigen_data\\bird_eigenvalues.npy and ./eigen_data\\bird_eigenvectors.npy\n"
     ]
    }
   ],
   "source": [
    "# Save eigenvalues and eigenvectors for each category so they can be loaded later without repeating\n",
    "# the long PCA computation\n",
    "\n",
    "eigen_path = './eigen_data'\n",
    "os.makedirs(eigen_path, exist_ok=True)\n",
    "\n",
    "for category in categories:\n",
    "    eigenvalues, eigenvectors = eigen_pairs[category]\n",
    "\n",
    "    eigval_file = os.path.join(eigen_path, f\"{category}_eigenvalues.npy\")\n",
    "    eigvec_file = os.path.join(eigen_path, f\"{category}_eigenvectors.npy\")\n",
    "\n",
    "    np.save(eigval_file, eigenvalues)\n",
    "    np.save(eigvec_file, eigenvectors)\n",
    "\n",
    "    print(f\"Saved PCA data for {category.upper()} to {eigval_file} and {eigvec_file}\")"
   ]
  },
  {
   "cell_type": "code",
   "execution_count": 11,
   "id": "1b707e24",
   "metadata": {},
   "outputs": [
    {
     "name": "stdout",
     "output_type": "stream",
     "text": [
      "CAT eigenvalues shape: (16384,)\n",
      "CAT eigenvectors shape: (16384, 16384)\n",
      "CAT top eigenvalue: 15826699.37\n",
      "\n",
      "DOG eigenvalues shape: (16384,)\n",
      "DOG eigenvectors shape: (16384, 16384)\n",
      "DOG top eigenvalue: 10852990.81\n",
      "\n",
      "BIRD eigenvalues shape: (16384,)\n",
      "BIRD eigenvectors shape: (16384, 16384)\n",
      "BIRD top eigenvalue: 27777403.95\n",
      "\n"
     ]
    }
   ],
   "source": [
    "# Load saved eigenvalues and eigenvectors (PCA components) and confirm that the arrays look as\n",
    "# expected before we proceed to dimensionality and projection\n",
    "\n",
    "loaded_eigen = {}\n",
    "\n",
    "for category in categories:\n",
    "    eigval_file = os.path.join(eigen_path, f\"{category}_eigenvalues.npy\")\n",
    "    eigvec_file = os.path.join(eigen_path, f\"{category}_eigenvectors.npy\")\n",
    "\n",
    "    eigenvalues = np.load(eigval_file)\n",
    "    eigenvectors = np.load(eigvec_file)\n",
    "\n",
    "    loaded_eigen[category] = (eigenvalues, eigenvectors)\n",
    "\n",
    "    # Print basic info\n",
    "    print(f\"{category.upper()} eigenvalues shape: {eigenvalues.shape}\")\n",
    "    print(f\"{category.upper()} eigenvectors shape: {eigenvectors.shape}\")\n",
    "    print(f\"{category.upper()} top eigenvalue: {eigenvalues[0]:.2f}\")\n",
    "    print()"
   ]
  },
  {
   "cell_type": "code",
   "execution_count": 12,
   "id": "c9e55a69",
   "metadata": {},
   "outputs": [
    {
     "name": "stdout",
     "output_type": "stream",
     "text": [
      "CAT projected shape: (100, 10)\n",
      "DOG projected shape: (100, 10)\n",
      "BIRD projected shape: (100, 10)\n"
     ]
    }
   ],
   "source": [
    "# Dimensionality reduction to project each centered image onto the top k eigenvectors, reducing\n",
    "# from 16,384 dimensions down to just 10 per image\n",
    "\n",
    "# Set number of principal components\n",
    "k = 10\n",
    "\n",
    "# Prepare dictionary for projected data\n",
    "projected_data = {}\n",
    "\n",
    "for category in categories:\n",
    "    X = centered_data[category]  # shape: (100, 16384)\n",
    "    eigenvectors = loaded_eigen[category][1]  # shape: (16384, 16384)\n",
    "\n",
    "    top_k_vectors = eigenvectors[:, :k]  # shape: (16384, 10)\n",
    "    projections = X @ top_k_vectors      # shape: (100, 10)\n",
    "\n",
    "    projected_data[category] = projections\n",
    "\n",
    "    # Confirm result\n",
    "    print(f\"{category.upper()} projected shape: {projections.shape}\")"
   ]
  },
  {
   "cell_type": "code",
   "execution_count": 13,
   "id": "b0b32334",
   "metadata": {},
   "outputs": [
    {
     "name": "stdout",
     "output_type": "stream",
     "text": [
      "Saved 10D projected data for CAT to ./projected_data\\cat_projected.npy\n",
      "Saved 10D projected data for DOG to ./projected_data\\dog_projected.npy\n",
      "Saved 10D projected data for BIRD to ./projected_data\\bird_projected.npy\n"
     ]
    }
   ],
   "source": [
    "# Save 10D projected feature vectors for each category\n",
    "proj_path = './projected_data'\n",
    "os.makedirs(proj_path, exist_ok=True)\n",
    "\n",
    "for category in categories:\n",
    "    proj_file = os.path.join(proj_path, f\"{category}_projected.npy\")\n",
    "    np.save(proj_file, projected_data[category])\n",
    "    print(f\"Saved 10D projected data for {category.upper()} to {proj_file}\")"
   ]
  },
  {
   "cell_type": "code",
   "execution_count": 14,
   "id": "fb72e4a3",
   "metadata": {},
   "outputs": [
    {
     "name": "stdout",
     "output_type": "stream",
     "text": [
      "Saved reconstructed images for CAT to ./reconstructed_images\\cat_reconstructed.npy\n",
      "Saved reconstructed images for DOG to ./reconstructed_images\\dog_reconstructed.npy\n",
      "Saved reconstructed images for BIRD to ./reconstructed_images\\bird_reconstructed.npy\n"
     ]
    }
   ],
   "source": [
    "# Reverse PCA projection process to approximate the original images by loading the 10D projections,\n",
    "# eigenvectors, and mean image\n",
    "\n",
    "# Multiply the projection by the transpose of the top-10 eigenvectors, add the mean image back in\n",
    "# to obtain the reconstructed image, then save a small sample of reconstructions for each category\n",
    "\n",
    "# Directory to save reconstructed images (as .npy arrays)\n",
    "recon_path = './reconstructed_images'\n",
    "os.makedirs(recon_path, exist_ok=True)\n",
    "\n",
    "for category in categories:\n",
    "    # Load necessary components\n",
    "    proj_file = os.path.join(proj_path, f\"{category}_projected.npy\")\n",
    "    eigvec_file = os.path.join(eigen_path, f\"{category}_eigenvectors.npy\")\n",
    "    mean_file = os.path.join(mean_path, f\"{category}_mean.npy\")\n",
    "\n",
    "    projections = np.load(proj_file)\n",
    "    eigenvectors = np.load(eigvec_file)\n",
    "    mean_img = np.load(mean_file)\n",
    "\n",
    "    # Select top-k eigenvectors and reconstruct images\n",
    "    top_k_vectors = eigenvectors[:, :k]\n",
    "    reconstructed = projections @ top_k_vectors.T + mean_img\n",
    "\n",
    "    # Save reconstructed array\n",
    "    save_file = os.path.join(recon_path, f\"{category}_reconstructed.npy\")\n",
    "    np.save(save_file, reconstructed)\n",
    "\n",
    "    print(f\"Saved reconstructed images for {category.upper()} to {save_file}\")"
   ]
  },
  {
   "cell_type": "code",
   "execution_count": 15,
   "id": "5790cc78",
   "metadata": {},
   "outputs": [
    {
     "name": "stdout",
     "output_type": "stream",
     "text": [
      "\n",
      "Reconstruction Error (Mean Squared Error):\n",
      "CAT reconstruction MSE: 1434.88\n",
      "DOG reconstruction MSE: 1574.67\n",
      "BIRD reconstruction MSE: 1111.52\n"
     ]
    }
   ],
   "source": [
    "# Evaluate reconstruction quality by loading original and reconstructed data, computing Mean Squared\n",
    "# Error (MSE) across all samples for each category and report the results\n",
    "\n",
    "# Compute MSE for each category manually using NumPy\n",
    "print(\"\\nReconstruction Error (Mean Squared Error):\")\n",
    "\n",
    "for category in categories:\n",
    "    # Load original and reconstructed data\n",
    "    original = loaded_data[category]\n",
    "    recon_file = os.path.join(recon_path, f\"{category}_reconstructed.npy\")\n",
    "    reconstructed = np.load(recon_file)\n",
    "\n",
    "    # Compute MSE manually: average of squared differences\n",
    "    mse = np.mean((original - reconstructed) ** 2)\n",
    "\n",
    "    print(f\"{category.upper()} reconstruction MSE: {mse:.2f}\")"
   ]
  },
  {
   "cell_type": "markdown",
   "id": "3f566317",
   "metadata": {},
   "source": [
    "---\n",
    "## REVISED MODEL FORMULATION"
   ]
  },
  {
   "cell_type": "code",
   "execution_count": 16,
   "id": "d124dcfa",
   "metadata": {},
   "outputs": [
    {
     "name": "stdout",
     "output_type": "stream",
     "text": [
      "Saved 64x64 flattened cat data to ./flattened_arrays_64\\cat_flattened.npy\n",
      "Saved 64x64 flattened dog data to ./flattened_arrays_64\\dog_flattened.npy\n",
      "Saved 64x64 flattened bird data to ./flattened_arrays_64\\bird_flattened.npy\n"
     ]
    }
   ],
   "source": [
    "# Revised Model - Load and flatten 64×64 grayscale images\n",
    "import os\n",
    "import numpy as np\n",
    "from PIL import Image\n",
    "\n",
    "dataset_path = './catdogbird_dataset'\n",
    "categories = ['cat', 'dog', 'bird']\n",
    "revised_save_path = './flattened_arrays_64'\n",
    "os.makedirs(revised_save_path, exist_ok=True)\n",
    "\n",
    "def load_images_64(folder, size=(64, 64)):\n",
    "    images = []\n",
    "    for filename in os.listdir(folder):\n",
    "        if filename.endswith('.jpg') or filename.endswith('.png'):\n",
    "            path = os.path.join(folder, filename)\n",
    "            img = Image.open(path).convert('L')  # Convert to grayscale\n",
    "            img = img.resize(size)\n",
    "            images.append(np.array(img).flatten())\n",
    "    return np.array(images)\n",
    "\n",
    "revised_data = {}\n",
    "for category in categories:\n",
    "    folder_path = os.path.join(dataset_path, category)\n",
    "    images = load_images_64(folder_path)\n",
    "    revised_data[category] = images\n",
    "\n",
    "    file_path = os.path.join(revised_save_path, f\"{category}_flattened.npy\")\n",
    "    np.save(file_path, images)\n",
    "    print(f\"Saved 64x64 flattened {category} data to {file_path}\")"
   ]
  },
  {
   "cell_type": "code",
   "execution_count": 17,
   "id": "293736f8",
   "metadata": {},
   "outputs": [
    {
     "name": "stdout",
     "output_type": "stream",
     "text": [
      "Saved 64x64 mean image for CAT to ./mean_images_64\\cat_mean.npy\n",
      "Saved 64x64 mean image for DOG to ./mean_images_64\\dog_mean.npy\n",
      "Saved 64x64 mean image for BIRD to ./mean_images_64\\bird_mean.npy\n"
     ]
    }
   ],
   "source": [
    "# Revised Model - Compute and save mean image for each 64×64 category\n",
    "mean_path_64 = './mean_images_64'\n",
    "os.makedirs(mean_path_64, exist_ok=True)\n",
    "\n",
    "mean_images_64 = {}\n",
    "\n",
    "for category in categories:\n",
    "    images = revised_data[category]\n",
    "    mean_img = np.mean(images, axis=0)\n",
    "    mean_images_64[category] = mean_img\n",
    "\n",
    "    mean_file = os.path.join(mean_path_64, f\"{category}_mean.npy\")\n",
    "    np.save(mean_file, mean_img)\n",
    "\n",
    "    print(f\"Saved 64x64 mean image for {category.upper()} to {mean_file}\")"
   ]
  },
  {
   "cell_type": "code",
   "execution_count": 18,
   "id": "87f8c8c0",
   "metadata": {},
   "outputs": [
    {
     "name": "stdout",
     "output_type": "stream",
     "text": [
      "CAT 64×64 centered shape: (100, 4096)\n",
      "DOG 64×64 centered shape: (100, 4096)\n",
      "BIRD 64×64 centered shape: (100, 4096)\n"
     ]
    }
   ],
   "source": [
    "# Revised Model - Center 64×64 data by subtracting the mean image for each category\n",
    "centered_data_64 = {}\n",
    "\n",
    "for category in categories:\n",
    "    images = revised_data[category]\n",
    "\n",
    "    mean_file = os.path.join(mean_path_64, f\"{category}_mean.npy\")\n",
    "    mean_img = np.load(mean_file)\n",
    "\n",
    "    centered = images - mean_img\n",
    "    centered_data_64[category] = centered\n",
    "\n",
    "    print(f\"{category.upper()} 64×64 centered shape: {centered.shape}\")"
   ]
  },
  {
   "cell_type": "code",
   "execution_count": 19,
   "id": "a8e13775",
   "metadata": {},
   "outputs": [
    {
     "name": "stdout",
     "output_type": "stream",
     "text": [
      "CAT 64×64 covariance matrix shape: (4096, 4096)\n",
      "DOG 64×64 covariance matrix shape: (4096, 4096)\n",
      "BIRD 64×64 covariance matrix shape: (4096, 4096)\n"
     ]
    }
   ],
   "source": [
    "# Revised Model - Compute covariance matrices for 64×64 centered data\n",
    "cov_matrices_64 = {}\n",
    "\n",
    "for category in categories:\n",
    "    X = centered_data_64[category]  # shape: (100, 4096)\n",
    "    cov_matrix = np.cov(X, rowvar=False)  # pixels as features (columns)\n",
    "    cov_matrices_64[category] = cov_matrix\n",
    "\n",
    "    print(f\"{category.upper()} 64×64 covariance matrix shape: {cov_matrix.shape}\")"
   ]
  },
  {
   "cell_type": "code",
   "execution_count": 20,
   "id": "e8b6a475",
   "metadata": {},
   "outputs": [
    {
     "name": "stdout",
     "output_type": "stream",
     "text": [
      "CAT 64×64 top eigenvalue: 3952987.17, total components: 4096\n",
      "DOG 64×64 top eigenvalue: 2707939.55, total components: 4096\n",
      "BIRD 64×64 top eigenvalue: 6938237.19, total components: 4096\n"
     ]
    }
   ],
   "source": [
    "# Revised Model - Perform eigen decomposition for each 64×64 covariance matrix\n",
    "eigen_pairs_64 = {}\n",
    "\n",
    "for category in categories:\n",
    "    cov_matrix = cov_matrices_64[category]\n",
    "\n",
    "    # Compute eigenvalues and eigenvectors\n",
    "    eigenvalues, eigenvectors = np.linalg.eigh(cov_matrix)\n",
    "\n",
    "    # Sort in descending order of eigenvalue magnitude\n",
    "    sorted_indices = np.argsort(eigenvalues)[::-1]\n",
    "    eigenvalues = eigenvalues[sorted_indices]\n",
    "    eigenvectors = eigenvectors[:, sorted_indices]\n",
    "\n",
    "    # Store the results\n",
    "    eigen_pairs_64[category] = (eigenvalues, eigenvectors)\n",
    "\n",
    "    print(f\"{category.upper()} 64×64 top eigenvalue: {eigenvalues[0]:.2f}, total components: {len(eigenvalues)}\")"
   ]
  },
  {
   "cell_type": "code",
   "execution_count": 21,
   "id": "90f31be1",
   "metadata": {},
   "outputs": [
    {
     "name": "stdout",
     "output_type": "stream",
     "text": [
      "CAT 64×64 projected shape: (100, 10)\n",
      "DOG 64×64 projected shape: (100, 10)\n",
      "BIRD 64×64 projected shape: (100, 10)\n"
     ]
    }
   ],
   "source": [
    "# Revised Model - Project 64×64 data onto top 10 principal components\n",
    "k = 10  # Number of components\n",
    "projected_data_64 = {}\n",
    "\n",
    "for category in categories:\n",
    "    X = centered_data_64[category]                      # Shape: (100, 4096)\n",
    "    eigenvectors = eigen_pairs_64[category][1]          # Shape: (4096, 4096)\n",
    "\n",
    "    top_k_vectors = eigenvectors[:, :k]                 # Shape: (4096, 10)\n",
    "    projections = X @ top_k_vectors                     # Shape: (100, 10)\n",
    "\n",
    "    projected_data_64[category] = projections\n",
    "\n",
    "    print(f\"{category.upper()} 64×64 projected shape: {projections.shape}\")"
   ]
  },
  {
   "cell_type": "code",
   "execution_count": 22,
   "id": "4e252ef4",
   "metadata": {},
   "outputs": [
    {
     "name": "stdout",
     "output_type": "stream",
     "text": [
      "Saved 64x64 projected data for CAT to ./projected_data_64\\cat_projected.npy\n",
      "Saved 64x64 projected data for DOG to ./projected_data_64\\dog_projected.npy\n",
      "Saved 64x64 projected data for BIRD to ./projected_data_64\\bird_projected.npy\n"
     ]
    }
   ],
   "source": [
    "# Revised Model - Save 10D projections for each category\n",
    "proj_path_64 = './projected_data_64'\n",
    "os.makedirs(proj_path_64, exist_ok=True)\n",
    "\n",
    "for category in categories:\n",
    "    proj_file = os.path.join(proj_path_64, f\"{category}_projected.npy\")\n",
    "    np.save(proj_file, projected_data_64[category])\n",
    "    print(f\"Saved 64x64 projected data for {category.upper()} to {proj_file}\")"
   ]
  },
  {
   "cell_type": "code",
   "execution_count": 23,
   "id": "fcc66511",
   "metadata": {},
   "outputs": [
    {
     "name": "stdout",
     "output_type": "stream",
     "text": [
      "Saved 64x64 PCA data for CAT to ./eigen_data_64\\cat_eigenvalues.npy and ./eigen_data_64\\cat_eigenvectors.npy\n",
      "Saved 64x64 PCA data for DOG to ./eigen_data_64\\dog_eigenvalues.npy and ./eigen_data_64\\dog_eigenvectors.npy\n",
      "Saved 64x64 PCA data for BIRD to ./eigen_data_64\\bird_eigenvalues.npy and ./eigen_data_64\\bird_eigenvectors.npy\n"
     ]
    }
   ],
   "source": [
    "# Revised Model - Save eigenvalues and eigenvectors for 64×64 data\n",
    "eigen_path_64 = './eigen_data_64'\n",
    "os.makedirs(eigen_path_64, exist_ok=True)\n",
    "\n",
    "for category in categories:\n",
    "    eigenvalues, eigenvectors = eigen_pairs_64[category]\n",
    "\n",
    "    eigval_file = os.path.join(eigen_path_64, f\"{category}_eigenvalues.npy\")\n",
    "    eigvec_file = os.path.join(eigen_path_64, f\"{category}_eigenvectors.npy\")\n",
    "\n",
    "    np.save(eigval_file, eigenvalues)\n",
    "    np.save(eigvec_file, eigenvectors)\n",
    "\n",
    "    print(f\"Saved 64x64 PCA data for {category.upper()} to {eigval_file} and {eigvec_file}\")"
   ]
  },
  {
   "cell_type": "code",
   "execution_count": 24,
   "id": "fdbee172",
   "metadata": {},
   "outputs": [
    {
     "name": "stdout",
     "output_type": "stream",
     "text": [
      "Saved 64x64 reconstructed images for CAT to ./reconstructed_images_64\\cat_reconstructed.npy\n",
      "Saved 64x64 reconstructed images for DOG to ./reconstructed_images_64\\dog_reconstructed.npy\n",
      "Saved 64x64 reconstructed images for BIRD to ./reconstructed_images_64\\bird_reconstructed.npy\n"
     ]
    }
   ],
   "source": [
    "# Revised Model - Reconstruct images from 10D projections\n",
    "recon_path_64 = './reconstructed_images_64'\n",
    "os.makedirs(recon_path_64, exist_ok=True)\n",
    "\n",
    "for category in categories:\n",
    "    # Load projections, eigenvectors, and 64×64 mean image\n",
    "    proj_file = os.path.join('./projected_data_64', f\"{category}_projected.npy\")\n",
    "    eigvec_file = os.path.join('./eigen_data_64', f\"{category}_eigenvectors.npy\")\n",
    "    mean_file = os.path.join('./mean_images_64', f\"{category}_mean.npy\")\n",
    "\n",
    "    projections = np.load(proj_file)\n",
    "    eigenvectors = np.load(eigvec_file)\n",
    "    mean_img = np.load(mean_file)\n",
    "\n",
    "    # Reconstruct using top-k eigenvectors\n",
    "    top_k_vectors = eigenvectors[:, :k]\n",
    "    reconstructed = projections @ top_k_vectors.T + mean_img\n",
    "\n",
    "    # Save reconstructed array\n",
    "    save_file = os.path.join(recon_path_64, f\"{category}_reconstructed.npy\")\n",
    "    np.save(save_file, reconstructed)\n",
    "\n",
    "    print(f\"Saved 64x64 reconstructed images for {category.upper()} to {save_file}\")"
   ]
  },
  {
   "cell_type": "code",
   "execution_count": 25,
   "id": "318fc296",
   "metadata": {},
   "outputs": [
    {
     "name": "stdout",
     "output_type": "stream",
     "text": [
      "\n",
      "Reconstruction Error (Mean Squared Error) for 64x64 images:\n",
      "CAT 64x64 reconstruction MSE: 1333.99\n",
      "DOG 64x64 reconstruction MSE: 1440.78\n",
      "BIRD 64x64 reconstruction MSE: 981.27\n"
     ]
    }
   ],
   "source": [
    "# Revised Model - Compute MSE for 64x64 reconstructions\n",
    "print(\"\\nReconstruction Error (Mean Squared Error) for 64x64 images:\")\n",
    "\n",
    "for category in categories:\n",
    "    original = revised_data[category]\n",
    "    recon_file = os.path.join(recon_path_64, f\"{category}_reconstructed.npy\")\n",
    "    reconstructed = np.load(recon_file)\n",
    "\n",
    "    # MSE: mean of squared pixel-wise differences\n",
    "    mse = np.mean((original - reconstructed) ** 2)\n",
    "\n",
    "    print(f\"{category.upper()} 64x64 reconstruction MSE: {mse:.2f}\")"
   ]
  },
  {
   "cell_type": "code",
   "execution_count": 26,
   "id": "bcd3ba47",
   "metadata": {},
   "outputs": [
    {
     "name": "stdout",
     "output_type": "stream",
     "text": [
      "CAT shape: (100, 4096)\n",
      "CAT mean pixel value: 126.29\n",
      "CAT pixel variance: 3942.35\n",
      "\n",
      "DOG shape: (100, 4096)\n",
      "DOG mean pixel value: 130.27\n",
      "DOG pixel variance: 3767.18\n",
      "\n",
      "BIRD shape: (100, 4096)\n",
      "BIRD mean pixel value: 119.83\n",
      "BIRD pixel variance: 3560.26\n",
      "\n"
     ]
    }
   ],
   "source": [
    "# 64×64 Image Stats – Confirm shape, compute mean and variance\n",
    "import os\n",
    "import numpy as np\n",
    "\n",
    "categories = ['cat', 'dog', 'bird']\n",
    "save_path_64 = 'flattened_arrays_64'  # Separate folder for 64x64 data\n",
    "loaded_data_64 = {}\n",
    "\n",
    "for category in categories:\n",
    "    file_path = os.path.join(save_path_64, f\"{category}_flattened.npy\")\n",
    "    images = np.load(file_path)\n",
    "    loaded_data_64[category] = images\n",
    "\n",
    "    # Print stats\n",
    "    print(f\"{category.upper()} shape: {images.shape}\")\n",
    "    print(f\"{category.upper()} mean pixel value: {np.mean(images):.2f}\")\n",
    "    print(f\"{category.upper()} pixel variance: {np.var(images):.2f}\")\n",
    "    print()"
   ]
  }
 ],
 "metadata": {
  "kernelspec": {
   "display_name": ".venv",
   "language": "python",
   "name": "python3"
  },
  "language_info": {
   "codemirror_mode": {
    "name": "ipython",
    "version": 3
   },
   "file_extension": ".py",
   "mimetype": "text/x-python",
   "name": "python",
   "nbconvert_exporter": "python",
   "pygments_lexer": "ipython3",
   "version": "3.10.11"
  }
 },
 "nbformat": 4,
 "nbformat_minor": 5
}
